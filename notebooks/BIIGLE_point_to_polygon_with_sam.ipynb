{
 "cells": [
  {
   "cell_type": "code",
   "execution_count": null,
   "metadata": {},
   "outputs": [],
   "source": [
    "from pathlib import Path\n",
    "\n",
    "import numpy as np\n",
    "import pandas as pd\n",
    "import matplotlib.pyplot as plt\n",
    "\n",
    "import torch\n",
    "\n",
    "# from segment_anything import build_sam_vit_h\n",
    "from segment_anything import sam_model_registry, SamPredictor\n",
    "from PIL import Image\n",
    "\n",
    "from utils import (\n",
    "    get_point_coord,\n",
    "    get_polygon,\n",
    "    show_points,\n",
    "    show_res_multi,\n",
    "    show_res\n",
    ")"
   ]
  },
  {
   "cell_type": "code",
   "execution_count": null,
   "metadata": {},
   "outputs": [],
   "source": [
    "def get_image(image_name, image_dir):\n",
    "    # some image files have <space> in their names,\n",
    "    # but <space> replaced by <_> in the csv table.\n",
    "    image_file = image_dir.joinpath(image_name)\n",
    "    if not image_file.exists():\n",
    "        # try to find the image\n",
    "        image_file = None\n",
    "        for file in image_dir.glob(\"*.jpg\"):\n",
    "            if image_name.replace(\"_\", \" \") == file.name.replace(\"_\", \" \"):\n",
    "                image_file = image_dir.joinpath(file.name)\n",
    "                break\n",
    "\n",
    "    if image_file is not None:\n",
    "        test_image = Image.open(image_file)\n",
    "        return np.array(test_image)\n",
    "    else:\n",
    "        return None\n",
    "\n",
    "def save_image_masks(masks, image_name, results_dir):\n",
    "    save_dir = results_dir.joinpath(image_name)\n",
    "    save_dir.mkdir(parents=True, exist_ok=True)\n",
    "    for i, mask in enumerate(masks):\n",
    "        # mask is 3D: 1, y, x\n",
    "        mask_img = mask[0].astype(np.uint8) * 255\n",
    "        mask_img = Image.fromarray(mask_img)\n",
    "        mask_img.save(save_dir.joinpath(f\"{i:03d}.png\"))"
   ]
  },
  {
   "cell_type": "code",
   "execution_count": null,
   "metadata": {},
   "outputs": [],
   "source": [
    "#image_file = \"../../data/20240813_data/VID_01_GP_50/VID_01_2023_GP__0.14.45.00.jpg\"\n",
    "#annotation_file = \"../../data/training_data/1/Annotations/14717-training-images-1.csv\"\n",
    "#image = np.array(Image.open(image_file))\n",
    "\n",
    "image_dir = Path(\"../../data/training_data/1\")\n",
    "print(image_dir.exists())\n",
    "\n",
    "annotation_file = Path(\n",
    "    \"../../data/training_data/1/Annotations/14717-training-images-1.csv\"\n",
    ")\n",
    "print(annotation_file.exists())"
   ]
  },
  {
   "cell_type": "code",
   "execution_count": null,
   "metadata": {},
   "outputs": [],
   "source": [
    "df_annotations = pd.read_csv(annotation_file)\n",
    "df_annotations"
   ]
  },
  {
   "cell_type": "code",
   "execution_count": null,
   "metadata": {},
   "outputs": [],
   "source": [
    "df_points = df_annotations[df_annotations[\"shape_name\"] == \"Point\"]\n",
    "df_points"
   ]
  },
  {
   "cell_type": "code",
   "execution_count": null,
   "metadata": {},
   "outputs": [],
   "source": [
    "df_points.groupby(\"filename\").count()"
   ]
  },
  {
   "cell_type": "markdown",
   "metadata": {},
   "source": [
    "Download the large SAM model's weights from here:\n",
    "https://dl.fbaipublicfiles.com/segment_anything/sam_vit_h_4b8939.pth\n",
    "\n",
    "For all available models see here: https://github.com/facebookresearch/segment-anything?tab=readme-ov-file#model-checkpoints"
   ]
  },
  {
   "cell_type": "code",
   "execution_count": null,
   "metadata": {},
   "outputs": [],
   "source": [
    "sam_checkpoint = \"../../SAM_models/sam_vit_h_4b8939.pth\"\n",
    "model_type = \"vit_h\"\n",
    "\n",
    "sam = sam_model_registry[model_type](checkpoint=sam_checkpoint)\n",
    "\n",
    "device = torch.device(\"cuda\" if torch.cuda.is_available() else \"cpu\")\n",
    "sam.to(device=device)\n",
    "\n",
    "predictor = SamPredictor(sam)"
   ]
  },
  {
   "cell_type": "code",
   "execution_count": null,
   "metadata": {},
   "outputs": [],
   "source": [
    "user_id = 2813\n",
    "first_name = \"Nils\"\n",
    "last_name = \"Jacobsen\"\n",
    "last_ann_label_id = int(df_annotations[\"annotation_label_id\"].max())\n",
    "last_label_id = int(df_annotations[\"label_id\"].max())\n",
    "last_annotation_id = int(df_annotations[\"annotation_id\"].max())\n",
    "polygon_id = 3\n",
    "\n",
    "df_new_annotations = df_annotations.copy()\n",
    "results_dir = Path(\"../../results/training_data/1\")\n",
    "results_dir.mkdir(exist_ok=True)\n",
    "\n",
    "print(last_ann_label_id)\n",
    "print(last_label_id)\n",
    "print(last_annotation_id)"
   ]
  },
  {
   "cell_type": "code",
   "execution_count": null,
   "metadata": {},
   "outputs": [],
   "source": [
    "for image_name, row_locations in df_points.groupby(\"filename\").groups.items():\n",
    "    print(f\"\\nRow locations: {row_locations}\")\n",
    "    print(f\"\\nProcessing {image_name}\")\n",
    "    if len(row_locations) < 3:\n",
    "        # the image has only the Laser Points\n",
    "        print(\"the image has only the laser points\")\n",
    "        continue\n",
    "\n",
    "    # load the image\n",
    "    test_image = get_image(image_name, image_dir)\n",
    "    \n",
    "    # get point coordinates\n",
    "    point_prompts = (\n",
    "        df_points.loc[row_locations][\"points\"].apply(get_point_coord).to_list()\n",
    "    )\n",
    "    # get label names\n",
    "    species = (\n",
    "        df_points.loc[row_locations][\"label_name\"].to_list()\n",
    "    )\n",
    "    point_prompts = np.array(point_prompts, dtype=np.float32)\n",
    "    prompt_labels = np.ones(len(point_prompts))  # positive prompt\n",
    "\n",
    "    # plot image + points\n",
    "    fig, ax = plt.subplots(1, 1, figsize=(9, 8))\n",
    "    ax.imshow(test_image)\n",
    "    show_points(point_prompts, prompt_labels, ax, marker_size=15)\n",
    "    plt.show()\n",
    "\n",
    "    # get the SAM predictions for each point\n",
    "    print(f\"getting predictions for {len(point_prompts)} point prompts...\")\n",
    "    all_masks = []\n",
    "    all_scores = []\n",
    "    all_species = []\n",
    "    predictor.set_image(test_image)\n",
    "    for i in range(len(point_prompts)):\n",
    "        masks, scores, logits = predictor.predict(\n",
    "            point_coords=point_prompts[i : i + 1],\n",
    "            point_labels=prompt_labels[i : i + 1],\n",
    "            multimask_output=False,\n",
    "        )\n",
    "        all_masks.append(masks)\n",
    "        all_scores.append(scores)\n",
    "        all_species.append(species[i : i + 1])\n",
    "        \n",
    "    # show the results\n",
    "    #show_res_multi(all_masks, all_scores, image=test_image, input_box=None, saveit = True)\n",
    "    show_res(all_masks, all_scores, all_species, input_points=point_prompts, input_labels=prompt_labels, input_box=None, image=test_image, saveit = True)\n",
    "\n",
    "    # save all masks\n",
    "    image_id = int(df_points.loc[row_locations[0], \"image_id\"])\n",
    "    print(image_id)\n",
    "    filename = df_points.loc[row_locations[0], \"filename\"]\n",
    "    print(filename)\n",
    "    image_file = image_dir.joinpath(filename)\n",
    "    print(image_file)\n",
    "    \n",
    "    #save_masks_on_images(all_masks, test_image, image_file.stem, results_dir)\n",
    "    save_image_masks(all_masks, image_file.stem, results_dir)\n",
    "\n",
    "    # mask to polygons\n",
    "    print(\"getting polygons from masks...\")\n",
    "    for i, masks in enumerate(all_masks):\n",
    "        mask = masks[0]\n",
    "        polygon = get_polygon(mask)\n",
    "        # add an annotation row into the annotation csv table\n",
    "        last_ann_label_id += 1\n",
    "        last_label_id += 1\n",
    "        last_annotation_id += 1\n",
    "        row_idx = len(df_new_annotations.index)\n",
    "        df_new_annotations.loc[row_idx, \"image_id\"] = image_id\n",
    "        df_new_annotations.loc[row_idx, \"filename\"] = filename\n",
    "        df_new_annotations.loc[row_idx, \"user_id\"] = user_id\n",
    "        df_new_annotations.loc[row_idx, \"firstname\"] = first_name\n",
    "        df_new_annotations.loc[row_idx, \"lastname\"] = last_name\n",
    "        df_new_annotations.loc[row_idx, \"annotation_label_id\"] = last_ann_label_id\n",
    "        df_new_annotations.loc[row_idx, \"label_id\"] = last_label_id\n",
    "        df_new_annotations.loc[row_idx, \"annotation_id\"] = last_annotation_id\n",
    "        df_new_annotations.loc[row_idx, \"label_hierarchy\"] = df_points.loc[\n",
    "            row_locations[i], \"label_hierarchy\"\n",
    "        ]\n",
    "        df_new_annotations.loc[row_idx, \"label_name\"] = df_points.loc[\n",
    "            row_locations[i], \"label_name\"\n",
    "        ]\n",
    "        df_new_annotations.loc[row_idx, \"shape_id\"] = polygon_id\n",
    "        df_new_annotations.loc[row_idx, \"shape_name\"] = \"Polygon\"\n",
    "        df_new_annotations.loc[row_idx, \"points\"] = str(polygon.ravel().tolist())\n",
    "\n",
    "\n",
    "print(\"\\n\\nDone!\")"
   ]
  },
  {
   "cell_type": "code",
   "execution_count": null,
   "metadata": {},
   "outputs": [],
   "source": [
    "df_new_annotations"
   ]
  },
  {
   "cell_type": "code",
   "execution_count": null,
   "metadata": {},
   "outputs": [],
   "source": [
    "df_new_annotations.to_csv(results_dir.joinpath(\"new_annotation.csv\"), index=False)"
   ]
  }
 ],
 "metadata": {
  "kernelspec": {
   "display_name": "ai4life_11",
   "language": "python",
   "name": "python3"
  },
  "language_info": {
   "codemirror_mode": {
    "name": "ipython",
    "version": 3
   },
   "file_extension": ".py",
   "mimetype": "text/x-python",
   "name": "python",
   "nbconvert_exporter": "python",
   "pygments_lexer": "ipython3",
   "version": "3.9.20"
  }
 },
 "nbformat": 4,
 "nbformat_minor": 2
}
