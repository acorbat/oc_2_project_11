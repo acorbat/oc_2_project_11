{
 "cells": [
  {
   "cell_type": "code",
   "execution_count": null,
   "metadata": {},
   "outputs": [],
   "source": [
    "from pathlib import Path\n",
    "\n",
    "import numpy as np\n",
    "import pandas as pd\n",
    "import matplotlib.pyplot as plt\n",
    "\n",
    "import torch\n",
    "from segment_anything import sam_model_registry, SamPredictor\n",
    "from PIL import Image\n",
    "\n",
    "from utils import (\n",
    "    get_point_coord,\n",
    "    get_polygon,\n",
    "    show_points,\n",
    "    show_mask,\n",
    "    show_res_multi,\n",
    ")"
   ]
  },
  {
   "cell_type": "code",
   "execution_count": null,
   "metadata": {},
   "outputs": [],
   "source": [
    "def get_image(annotation_name, image_dir):\n",
    "    image_name = \"_\".join(annotation_name.split(\"_\")[:-1])\n",
    "    image_file = image_dir.joinpath(image_name + \".jpg\")\n",
    "    if image_file.exists():\n",
    "        test_image = Image.open(image_file)\n",
    "        return np.array(test_image), image_file\n",
    "    else:\n",
    "        return None, None\n",
    "\n",
    "\n",
    "def save_image_masks(masks, image_name, results_dir):\n",
    "    save_dir = results_dir.joinpath(image_name)\n",
    "    save_dir.mkdir(parents=True, exist_ok=True)\n",
    "    for i, mask in enumerate(masks):\n",
    "        # mask is 3D: 1, y, x\n",
    "        mask_img = mask[0].astype(np.uint8) * 255\n",
    "        mask_img = Image.fromarray(mask_img)\n",
    "        mask_img.save(save_dir.joinpath(f\"{i:03d}.png\"))"
   ]
  },
  {
   "cell_type": "markdown",
   "metadata": {},
   "source": [
    "Download the large SAM model's weights from here:\n",
    "https://dl.fbaipublicfiles.com/segment_anything/sam_vit_h_4b8939.pth\n",
    "\n",
    "For all available models see here: https://github.com/facebookresearch/segment-anything?tab=readme-ov-file#model-checkpoints"
   ]
  },
  {
   "cell_type": "code",
   "execution_count": null,
   "metadata": {},
   "outputs": [],
   "source": [
    "sam_checkpoint = \"../results/SAM_models/sam_vit_h_4b8939.pth\"\n",
    "model_type = \"vit_h\"\n",
    "\n",
    "sam = sam_model_registry[model_type](checkpoint=sam_checkpoint)\n",
    "\n",
    "device = torch.device(\"cuda\" if torch.cuda.is_available() else \"cpu\")\n",
    "sam.to(device=device)\n",
    "\n",
    "predictor = SamPredictor(sam)"
   ]
  },
  {
   "cell_type": "code",
   "execution_count": null,
   "metadata": {},
   "outputs": [],
   "source": [
    "image_dir = Path(\"../results/paparazzi_results\")\n",
    "print(image_dir.exists())"
   ]
  },
  {
   "cell_type": "code",
   "execution_count": null,
   "metadata": {},
   "outputs": [],
   "source": [
    "results_dir = Path(\"../results/paparazzi_results\")\n",
    "results_dir.mkdir(exist_ok=True)"
   ]
  },
  {
   "cell_type": "code",
   "execution_count": null,
   "metadata": {},
   "outputs": [],
   "source": [
    "annotation_files = image_dir.glob(\"*.txt\")\n",
    "\n",
    "for file in annotation_files:\n",
    "    print(f\"\\nProcessing {file}...\")\n",
    "    image, image_file = get_image(file.stem, image_dir)\n",
    "    if image is None:\n",
    "        continue\n",
    "\n",
    "    df_annotations = pd.read_csv(\n",
    "        file,\n",
    "        delimiter=\"\\t\",\n",
    "        header=None,\n",
    "        names=[\"x\", \"y\", \"label\"]\n",
    "    )\n",
    "    # get SAM prediction for each row in point annotation file\n",
    "    print(f\"getting prediction for {len(df_annotations)} point prompts...\")\n",
    "    all_prompts = []\n",
    "    all_masks = []\n",
    "    all_scores = []\n",
    "    predictor.set_image(image)\n",
    "    for i, row in df_annotations.iterrows():\n",
    "        prompt = np.array([[row[\"x\"], row[\"y\"]]])\n",
    "        masks, scores, logits = predictor.predict(\n",
    "            point_coords=prompt,\n",
    "            point_labels=np.ones(1),\n",
    "            multimask_output=False,\n",
    "        )\n",
    "        all_prompts.append(prompt[0])\n",
    "        all_masks.append(masks)\n",
    "        all_scores.append(scores)\n",
    "    \n",
    "    # show the results\n",
    "    fig, ax = plt.subplots(1, 1, figsize=(9, 8))\n",
    "    show_res_multi(all_masks, all_scores, image=image, input_box=None, ax=ax)\n",
    "    show_points(np.vstack(all_prompts), np.ones(len(all_prompts)), ax=ax)\n",
    "    plt.show()\n",
    "    \n",
    "    # save the masks\n",
    "    print(\"saving predicted masks...\")\n",
    "    # save_image_masks(all_masks, image_file.stem, results_dir)\n",
    "    df_result = pd.DataFrame(columns=[\n",
    "        \"image_file\", \"prompt\", \"mask_id\", \"polygon\"\n",
    "    ])\n",
    "    save_dir = results_dir.joinpath(image_file.stem)\n",
    "    save_dir.mkdir(parents=True, exist_ok=True)\n",
    "    for i, mask in enumerate(all_masks):\n",
    "        # mask is 3D: 1, y, x\n",
    "        mask_np = mask[0].astype(np.uint8) * 255\n",
    "        mask_img = Image.fromarray(mask_np)\n",
    "        mask_id = i + 1\n",
    "        mask_img.save(save_dir.joinpath(f\"{mask_id:03d}.png\"))\n",
    "        #\n",
    "        df_result.loc[i, \"image_file\"] = image_file.name\n",
    "        df_result.loc[i, \"prompt\"] = str([row[\"x\"], row[\"y\"]])\n",
    "        df_result.loc[i, \"mask_id\"] = f\"{mask_id:03d}\"\n",
    "        polygon = get_polygon(mask_np)\n",
    "        df_result.loc[i, \"polygon\"] = str(polygon.ravel().tolist())\n",
    "    df_result.to_csv(save_dir.joinpath(\"polygon_masks.csv\"), index=False)\n",
    "\n",
    "print(\"Done!\")"
   ]
  }
 ],
 "metadata": {
  "kernelspec": {
   "display_name": "ai4life",
   "language": "python",
   "name": "python3"
  },
  "language_info": {
   "codemirror_mode": {
    "name": "ipython",
    "version": 3
   },
   "file_extension": ".py",
   "mimetype": "text/x-python",
   "name": "python",
   "nbconvert_exporter": "python",
   "pygments_lexer": "ipython3",
   "version": "3.9.18"
  }
 },
 "nbformat": 4,
 "nbformat_minor": 2
}
